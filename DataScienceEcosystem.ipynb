{
  "nbformat": 4,
  "nbformat_minor": 0,
  "metadata": {
    "colab": {
      "provenance": []
    },
    "kernelspec": {
      "name": "python3",
      "display_name": "Python 3"
    },
    "language_info": {
      "name": "python"
    }
  },
  "cells": [
    {
      "cell_type": "markdown",
      "source": [
        "# Data Science Tools and Ecosystem\n"
      ],
      "metadata": {
        "id": "6FxAvcMAzCy-"
      }
    },
    {
      "cell_type": "markdown",
      "source": [
        "In this notebook, Data Science Tools and Ecosystem are summarized.\n"
      ],
      "metadata": {
        "id": "-J9zn48kzTN4"
      }
    },
    {
      "cell_type": "markdown",
      "source": [
        "Some of the popular languages that Data Scientists use are:\n",
        "1. Python\n",
        "2. R\n",
        "3. SQL\n",
        "4. Julia\n",
        "5. Scala\n"
      ],
      "metadata": {
        "id": "RqYTJngxzfLj"
      }
    },
    {
      "cell_type": "markdown",
      "source": [
        "Some of the commonly used libraries used by Data Scientists include:\n",
        "1. Pandas\n",
        "2. NumPy\n",
        "3. Matplotlib\n",
        "4. Scikit-learn\n",
        "5. TensorFlow\n"
      ],
      "metadata": {
        "id": "2t-FWLEczlSf"
      }
    },
    {
      "cell_type": "markdown",
      "source": [
        "| Data Science Tools |\n",
        "|--------------------|\n",
        "| Jupyter Notebooks   |\n",
        "| RStudio             |\n",
        "| Apache Zeppelin     |\n"
      ],
      "metadata": {
        "id": "VRXZoCKyzq7R"
      }
    },
    {
      "cell_type": "markdown",
      "source": [
        "### Below are a few examples of evaluating arithmetic expressions in Python\n"
      ],
      "metadata": {
        "id": "YN_PzeXAzxz2"
      }
    },
    {
      "cell_type": "code",
      "execution_count": 1,
      "metadata": {
        "colab": {
          "base_uri": "https://localhost:8080/"
        },
        "id": "rlwNlkUAy7d0",
        "outputId": "3fde2165-9757-4bbc-b0e6-c4eb04df284f"
      },
      "outputs": [
        {
          "output_type": "execute_result",
          "data": {
            "text/plain": [
              "17"
            ]
          },
          "metadata": {},
          "execution_count": 1
        }
      ],
      "source": [
        "# This a simple arithmetic expression to multiply then add integers\n",
        "(3 * 4) + 5\n",
        "\n"
      ]
    },
    {
      "cell_type": "code",
      "source": [
        "# This will convert 200 minutes to hours by dividing by 60\n",
        "200 / 60\n"
      ],
      "metadata": {
        "colab": {
          "base_uri": "https://localhost:8080/"
        },
        "id": "_IYMAnuA0P7Q",
        "outputId": "dc85e48f-dc97-4081-fbe7-d968a1817ddc"
      },
      "execution_count": 2,
      "outputs": [
        {
          "output_type": "execute_result",
          "data": {
            "text/plain": [
              "3.3333333333333335"
            ]
          },
          "metadata": {},
          "execution_count": 2
        }
      ]
    },
    {
      "cell_type": "markdown",
      "source": [
        "**Objectives:**\n",
        "- List popular languages for Data Science\n",
        "- Identify commonly used libraries\n",
        "- Explore tools used by Data Scientists\n",
        "- Evaluate arithmetic expressions\n"
      ],
      "metadata": {
        "id": "ZmvnJMs70Yul"
      }
    },
    {
      "cell_type": "markdown",
      "source": [
        "## Author\n",
        "Rutwik Gosavi\n"
      ],
      "metadata": {
        "id": "bl1913q-01Av"
      }
    },
    {
      "cell_type": "code",
      "source": [],
      "metadata": {
        "id": "zgmMRAnx0VBM"
      },
      "execution_count": null,
      "outputs": []
    }
  ]
}